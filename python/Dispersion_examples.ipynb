{
 "cells": [
  {
   "cell_type": "markdown",
   "metadata": {},
   "source": [
    "# Atmospheric Dispersion Examples\n",
    "\n",
    "This notebook will demonstrate how to compute the effects of atmospheric refraction for solar observations. \n",
    "\n",
    "The main user-facing functions in the atm_dispersion.py package are:\n",
    "\n",
    "**refractivity**: Given temperature, pressure, etc., return refractivity (needed for atmospheric_refraction)\n",
    "\n",
    "**atmospheric_refraction**: Compute magnitude of refraction and parallactic angle for given wavelengths at given times. Returns (*refraction_atm*, *times*, *coords*)\n",
    "\n",
    "**offsets**: Compute refraction offsets in solar disk E-W and N-S helioprojective coordinates. Returns (*offsets*, *refraction_atm*, *coords*)\n",
    "\n",
    "These returned objects are the following:\n",
    "\n",
    "```\n",
    "    times = astropy.time.core.Time\n",
    "```\n",
    "\n",
    "```\n",
    "    refraction_atm = {'refraction_mag (arcsec)'     : [times, wavelengths]\n",
    "                      'parallactic_angle (degrees)' : [times, wavelengths]}\n",
    "```\n",
    "\n",
    "```\n",
    "    coords = {'altitude (degrees)' : [times],\n",
    "        'azimuth (degrees)'        : [times],\n",
    "        'hour angle (degrees)'     : [times]}\n",
    "```\n",
    "\n",
    "```\n",
    "    offsets = {'East-West'   : [times, wavelengths],\n",
    "               'North-South' : [times, wavelengths]}\n",
    "```\n"
   ]
  },
  {
   "cell_type": "markdown",
   "metadata": {},
   "source": [
    "## Load important modules"
   ]
  },
  {
   "cell_type": "code",
   "execution_count": 2,
   "metadata": {},
   "outputs": [
    {
     "name": "stdout",
     "output_type": "stream",
     "text": [
      "All modules loaded\n",
      "done\n"
     ]
    }
   ],
   "source": [
    "import numpy as np\n",
    "import matplotlib.pyplot as plt\n",
    "from matplotlib.colors import PowerNorm, LogNorm, SymLogNorm\n",
    "from scipy import interpolate\n",
    "import astropy.units as u\n",
    "from astropy import coordinates\n",
    "from astropy.coordinates import EarthLocation, AltAz, TETE\n",
    "from astropy.coordinates.erfa_astrom import erfa_astrom, ErfaAstromInterpolator\n",
    "from astropy.time import Time\n",
    "from astropy.table import Table\n",
    "from astropy.io import fits\n",
    "import sunpy as sp\n",
    "from sunpy import coordinates as coord\n",
    "import pickle\n",
    "\n",
    "import atm_dispersion as adm # Atmospheric Dispersion Module\n",
    "print(\"done\")"
   ]
  },
  {
   "cell_type": "markdown",
   "metadata": {},
   "source": [
    "## Define location and atmospheric conditions\n",
    "\n",
    "Two key components of the following calculations are the location of the observer and the atmospheric conditions.\n",
    "\n",
    "The observer location allows the determination of the elevation of the Sun at any given time.\n",
    "\n",
    "The atmospheric conditions allow the atmospheric profile to be estimated, and hence the determination of the refractivity of the air.\n"
   ]
  },
  {
   "cell_type": "code",
   "execution_count": 3,
   "metadata": {},
   "outputs": [
    {
     "name": "stdout",
     "output_type": "stream",
     "text": [
      "Observing Location -- longitude: -156.2564 deg ; latitude: 20.7067 deg ; altitude: 3067 m \n"
     ]
    },
    {
     "name": "stderr",
     "output_type": "stream",
     "text": [
      "/opt/local/Library/Frameworks/Python.framework/Versions/3.9/lib/python3.9/site-packages/ipykernel/ipkernel.py:283: DeprecationWarning: `should_run_async` will not call `transform_cell` automatically in the future. Please pass the result to `transformed_cell` argument and any exception that happen during thetransform in `preprocessing_exc_tuple` in IPython 7.17 and above.\n",
      "  and should_run_async(code)\n"
     ]
    }
   ],
   "source": [
    "# First, we need to define our observing location\n",
    "\n",
    "# Default will be to use DKIST as the location\n",
    "# but any other location could be used by manually setting the geodetic coordinates below\n",
    "\n",
    "set_location_dkist = True\n",
    "\n",
    "if set_location_dkist:\n",
    "    observing_loc = EarthLocation.of_site('dkist')\n",
    "    observing_loc.info.meta['name'] = 'DKIST'\n",
    "    # these are the average atmospheric conditions on Haleakalā\n",
    "    atm_conditions = {\n",
    "        'temp': 8.2*u.deg_C,\n",
    "        'pressure': 70965.*u.Pa,\n",
    "        'humidity': 30,\n",
    "        'co2_conc': 400}\n",
    "\n",
    "else:\n",
    "    longitude =    -156.25*u.deg\n",
    "    latitude  =     20.71*u.deg\n",
    "    altitude  =     0.*u.m\n",
    "    observing_loc = EarthLocation(lat=latitude, lon=longitude, height=altitude)\n",
    "    # these are the conditions for the standard atmosphere\n",
    "    atm_conditions = {'temp':15*u.deg_C, \n",
    "                      'pressure':101325.*u.Pa, \n",
    "                      'humidity':0, \n",
    "                      'co2_conc':314}\n",
    "\n",
    "print(\"Observing Location -- longitude: {:0.4f} ; latitude: {:0.4f} ; altitude: {:0.0f} \"\\\n",
    "      .format(observing_loc.geodetic.lon, observing_loc.geodetic.lat, observing_loc.geodetic.height))\n"
   ]
  },
  {
   "cell_type": "markdown",
   "metadata": {},
   "source": [
    "## Example 1: calculate refractivity for a individual wavelengths\n",
    "\n",
    "The basis of the dispersion calculation is computing the atmospheric refractivity at various wavelengths. The refractivity depends on the atmospheric height profile, but can be approximated if the temperature, pressure, humidity, and CO2 fraction is known"
   ]
  },
  {
   "cell_type": "code",
   "execution_count": null,
   "metadata": {},
   "outputs": [],
   "source": [
    "# wavelength(s) for which refractivity will be computed; in this case, the calcium H line\n",
    "wavelengths = np.array([396.9, 656.3])*u.nm\n",
    "print(atm_conditions)\n",
    "refrac = adm.refractivity(wavelengths,\n",
    "                          atm_conditions['temp'],\n",
    "                          atm_conditions['pressure'],\n",
    "                          atm_conditions['humidity'],\n",
    "                          atm_conditions['co2_conc'],\n",
    "                          verbose=0)\n",
    "\n",
    "print(\"\\n\")\n",
    "print(\"Refractivity (n-1) @{:.2f} = {:.5g}\".format(wavelengths[0],refrac[0])) # print refractivity to 5 sig. figs.\n",
    "print(\"Refractivity (n-1) @{:.2f} = {:.5g}\".format(wavelengths[1],refrac[1])) # print refractivity to 5 sig. figs.\n"
   ]
  },
  {
   "cell_type": "markdown",
   "metadata": {},
   "source": [
    "## Example 2: compute atmospheric refraction for a range of wavelengths at a single time\n",
    "\n",
    "Here we compute the total refraction at a single time as a function of wavelength. This is the amount of upward deflection of the object with respect to its true position."
   ]
  },
  {
   "cell_type": "code",
   "execution_count": null,
   "metadata": {},
   "outputs": [],
   "source": [
    "# This section calculates the absolute refraction \n",
    "\n",
    "# series of wavelengths, ranging from 400 to 850 nm in intervals of 10 nm\n",
    "wavelengths = (np.arange(46)*10 + 400)*u.nm\n",
    "\n",
    "# define time for which refraction will be computed; note that Hawaii time is UTC-10\n",
    "# at this time the Sun is nearly at the zenith - refraction will be almost zero\n",
    "#time = Time('2021-05-23 22:21:40',scale='utc') + np.zeros((1))\n",
    "\n",
    "# This is 5 hours earlier, when the Sun is closer to the horizon\n",
    "time = Time('2021-05-23 17:00:00',scale='utc') + np.zeros((1))\n",
    "time.format = 'jd'\n",
    "\n",
    "# Compute dispersion for given times and wavelengths\n",
    "refraction_atm = adm.atmospheric_refraction(wavelengths,\n",
    "                                            time,\n",
    "                                            air_pressure = atm_conditions['pressure'],\n",
    "                                            air_temp     = atm_conditions['temp'], \n",
    "                                            humidity     = atm_conditions['humidity'],\n",
    "                                            co2_conc     = atm_conditions['co2_conc'],\n",
    "                                            observer_location = observing_loc,\n",
    "                                            verbose      = 0)\n",
    "\n",
    "# Plot refraction as a function of wavelength\n",
    "plt.plot(wavelengths.value, refraction_atm[0]['refraction_mag (arcsec)'][0])\n",
    "\n",
    "plt.xlabel('Wavelength [nm]')\n",
    "plt.ylabel('Refraction [arcsec]')\n",
    "plt.title('Total Atmosphere Refraction')\n",
    "plot = 1 "
   ]
  },
  {
   "cell_type": "markdown",
   "metadata": {},
   "source": [
    "## Example 3: compute the atmospheric dispersion between two selected wavelengths\n",
    "\n",
    "Here we compute the difference in the magnitude of refraction between two wavelength."
   ]
  },
  {
   "cell_type": "code",
   "execution_count": null,
   "metadata": {},
   "outputs": [],
   "source": [
    "# Now let's calculate the dispersion, the relative difference in refraction between two different wavelengths\n",
    "\n",
    "# define the reference wavelength. This might typically be the wavelength at which the adaptive optics system is working\n",
    "ref_wave = 5000*u.AA\n",
    "# and find which index in the wavelength array is closest to the reference wavelength\n",
    "idx_refwave = np.argmin(abs(wavelengths - ref_wave))\n",
    "# redefine the reference wavelength to be whatever was the closest index to the requested reference wavelength\n",
    "ref_wave = wavelengths[idx_refwave]\n",
    "\n",
    "refraction_abs = refraction_atm[0]['refraction_mag (arcsec)']\n",
    "\n",
    "dispersion_torefwave = refraction_abs - refraction_abs[0, idx_refwave]\n",
    "\n",
    "plt.plot(wavelengths.value, dispersion_torefwave[0,:])\n",
    "plt.plot(ref_wave.to(u.nm), 0, 'o', markersize=8,alpha=0.5,markerfacecolor='red')\n",
    "plt.xlabel('Wavelength [nm]')\n",
    "plt.ylabel('Dispersion Magnitude [arcsec]')\n",
    "plt.title('Atmosphere Dispersion relative to {:n}'.format(ref_wave.to(u.nm)))\n",
    "\n",
    "max_dispersion = np.max(dispersion_torefwave)\n"
   ]
  },
  {
   "cell_type": "markdown",
   "metadata": {},
   "source": [
    "## Example 4: compute dispersion-induced offsets in solar NS-EW coordinates\n",
    "\n",
    "The dispersion calculated above is the magnitude of the offset between two wavelengths along the direction perpendicular to the horizon.\n",
    "But observations are often obtained (or corrected to, as part of the data reduction process) with the image plane held in a constant orientation with respect to the solar disk.\n",
    "So what is more useful from the observers' perspective, is the magnitude of the dispersion offsets in the N-S and E-W direction of the solar helioprojective coordinate system.\n",
    "\n",
    "While the dispersion magnitude varies smoothly with elevation, and is symmetrical around local noon, the shifts in the helioprojective coordinates have more complex behavior over the course of a day. This is because the angle of the solar axis with respect to the horizon also depends on the solar P-angle (+/– 26 degrees), and the particular orientation of the Sun with respect to the horizon. The direction of the shift in the E-W direction generally switches sign as the Sun passes through the meridian, while the shift in the N-S direction is generally smaller."
   ]
  },
  {
   "cell_type": "code",
   "execution_count": null,
   "metadata": {},
   "outputs": [],
   "source": [
    "# Choose two wavelengths: we'll use the calcium lines at 397 and 854 nm\n",
    "wavelengths = np.array([396.8, 854.2]) * u.nm\n",
    "\n",
    "# We'll use the same location, but this time we'll calculate how the values change over several hours.\n",
    "# Again, note that Hawaii time is UTC-10, so e.g. 18:00 UTC is 08:00 a.m. in Hawaii.\n",
    "times = Time('2022-02-22 18:00:00', scale='utc') + np.arange(60*9)*u.min\n",
    "times.format = 'jd'\n",
    "noon_idx = int(np.where(np.modf((times - 10*u.hour).value)[0] == 0)[0][0]\n",
    "               + (15 - observing_loc.geodetic.lon.value % 15)*4)\n",
    "\n",
    "noontime = times[noon_idx]\n",
    "noontime.format = 'datetime'\n",
    "#print('Local noon occurs at: ',noontime)\n",
    "\n",
    "# Compute offsets\n",
    "(offsets, refraction_atm, coords) = adm.offsets(wavelengths,\n",
    "                                        times,\n",
    "                                        air_pressure      = atm_conditions['pressure'],\n",
    "                                        air_temp          = atm_conditions['temp'],\n",
    "                                        humidity          = atm_conditions['humidity'],\n",
    "                                        co2_conc          = atm_conditions['co2_conc'], \n",
    "                                        observer_location = observing_loc,\n",
    "                                        verbose           = 0)\n",
    "\n",
    "dispersion_relative = ((refraction_atm['refraction_mag (arcsec)'])[:,1]\n",
    "                       - (refraction_atm['refraction_mag (arcsec)'])[:,0])\n",
    "parallactic_angle   = refraction_atm['parallactic_angle (degrees)']\n",
    "\n",
    "EW_offsets = offsets['East-West']\n",
    "NS_offsets = offsets['North-South']\n",
    "\n",
    "T_delta = (times - times[noon_idx])\n",
    "\n",
    "# Make a plot of total dispersion, and dispersion broken down into solar geocentric coordinates\n",
    "plt.figure(1)\n",
    "plt.plot(T_delta.value*24, dispersion_relative, label='total dispersion', linewidth=4, alpha=0.5)\n",
    "plt.plot(T_delta.value*24, EW_offsets[:,0] - EW_offsets[:,1], label='EW', linewidth=2)\n",
    "plt.plot(T_delta.value*24, NS_offsets[:,0] - NS_offsets[:,1], label='NS', linewidth=2)\n",
    "\n",
    "plt.axhline(0, color='k', linestyle='--')\n",
    "plt.axvline(T_delta[noon_idx].value*24, color='k', linestyle=':', label='local noon')\n",
    "\n",
    "plt.xlabel('Time since ' + noontime.strftime('%Y-%m-%d %H:%M:%S') + ' UT [hours]')\n",
    "plt.ylabel('Spatial offsets [arcsec]')\n",
    "plt.title('Dispersion Offsets between {:0.1f} and {:0.1f}'.format(wavelengths[0], wavelengths[1]))\n",
    "plt.legend()\n",
    "\n",
    "# Now make a plot of parallactic angle (which is wavelength independent)\n",
    "plt.figure(2)\n",
    "plt.plot(T_delta.value*24, parallactic_angle, label='parallactic angle', linewidth=4, alpha=0.5)\n",
    "plt.axhline(0, color='k', linestyle='--')\n",
    "plt.axvline(T_delta[noon_idx].value*24, label='local noon', color='k', linestyle=':')\n",
    "\n",
    "plt.xlabel('Time since ' + times[0].strftime('%Y-%m-%d %H:%M:%S') + ' UT [hours]')\n",
    "plt.ylabel('Parallactic Angle [deg]')\n",
    "plt.title('Parallactic Angle')\n",
    "\n",
    "noon_values = (dispersion_relative[noon_idx], parallactic_angle[noon_idx])"
   ]
  },
  {
   "cell_type": "markdown",
   "metadata": {},
   "source": [
    "## Example 5: given a series of times, compute dispersion for multiple wavelengths\n",
    "\n",
    "A common use case will be to compute the dispersion between two wavelengths for a series of time steps taken from the image acquisition times of a dataset. "
   ]
  },
  {
   "cell_type": "code",
   "execution_count": null,
   "metadata": {},
   "outputs": [],
   "source": [
    "# Suppose you know at what times you observed the Sun, and you want to calculate\n",
    "# the dispersion between multiple lines for alignment purposes.\n",
    "\n",
    "# Let's use three spectral lines: Ca II H, Fe I 6301, and Ca II 8542\n",
    "wavelengths = np.array([396.8, 630.1, 854.2]) * u.nm\n",
    "nw = wavelengths.size\n",
    "# Observing for two hours starting at 8 AM Hawaii time\n",
    "times = Time(\"2022-03-21 18:00:00\", scale='utc') + np.arange(60*2)*u.min\n",
    "nt = times.size\n",
    "times.format = 'jd'\n",
    "# We've already set our location and atmospheric conditions in Example 2, so don't forget to do that!\n",
    "\n",
    "# Calculate atmospheric refraction\n",
    "refraction_atm, times, coords = adm.atmospheric_refraction(wavelengths,\n",
    "                                                           times,\n",
    "                                                           air_pressure      = atm_conditions['pressure'],\n",
    "                                                           air_temp          = atm_conditions['temp'],\n",
    "                                                           humidity          = atm_conditions['humidity'],\n",
    "                                                           co2_conc          = atm_conditions['co2_conc'], \n",
    "                                                           observer_location = observing_loc,\n",
    "                                                           verbose           = 0)\n",
    "\n",
    "\n",
    "# Now we can get the dispersion by taking the difference of between two wavelengths.\n",
    "# This gives two of the three combinations; the third is simply the sum of the others.\n",
    "dispersion = -np.diff(refraction_atm['refraction_mag (arcsec)'], axis=1)\n",
    "par_ang = refraction_atm['parallactic_angle (degrees)']\n",
    "\n",
    "# Okay, let's take a look at how the dispersion changes over time.\n",
    "plt.figure(figsize=(10,4))\n",
    "plt.subplot(121)\n",
    "plt.plot((times - times[0]).value*1440, dispersion[:,0], '-c', label='Ca II H - Fe I 630.2')\n",
    "plt.plot((times - times[0]).value*1440, dispersion[:,1], '-y', label='Fe I 630.2 - Ca II 854.2') \n",
    "plt.plot((times - times[0]).value*1440, np.sum(dispersion, axis=1), '-m', label='Ca II H - Ca II 854.2')\n",
    "plt.xlabel('time since start [minutes]')\n",
    "plt.ylabel('dispersion [arcsec]')\n",
    "plt.legend()\n",
    "plt.subplot(122)\n",
    "plt.plot((times - times[0]).value*1440, par_ang, '-r', label='parallactic angle')\n",
    "plt.plot((times - times[0]).value*1440, coords['altitude (degrees)'], '-b', label='elevation')\n",
    "plt.xlabel('time since start [minutes]')\n",
    "plt.ylabel('angle [degrees]')\n",
    "plt.legend()\n",
    "plt.tight_layout()\n"
   ]
  },
  {
   "cell_type": "markdown",
   "metadata": {},
   "source": [
    "## Example 6: given coordinates, compute dispersion\n",
    "\n",
    "Part of the calculation performed above was to determine the azimuth and elevation of the Sun at each of the input timesteps. This computation may be slow for calculations using large numbers of timesteps. The position of the Sun in the sky may be available in the FITS headers of the images, or it may have been calculated for one wavelength and now the user wants to perform the refraction calculation for additional wavelengths.\n",
    "Therefore, there is the possibility to feed the atmospheric refraction calculation the Sun's position in the sky and perform the refraction calculation based on that information."
   ]
  },
  {
   "cell_type": "code",
   "execution_count": null,
   "metadata": {},
   "outputs": [],
   "source": [
    "# We can also use the coordinates directly; in this case, we'll use altitude and azimuth.\n",
    "# This is particularly time-efficient if you're working with massive datasets.\n",
    "# For the purpose of illustration, let's use the coordinates from the previous example.\n",
    "altitude = coords['altitude (degrees)']\n",
    "azimuth  = coords['azimuth (degrees)']\n",
    "\n",
    "# Calculate atmospheric refraction\n",
    "refraction_atm, times, coords = adm.atmospheric_refraction(wavelengths,\n",
    "                                                           times,\n",
    "                                                           input_alt         = altitude,\n",
    "                                                           input_az          = azimuth,\n",
    "                                                           air_pressure      = atm_conditions['pressure'],\n",
    "                                                           air_temp          = atm_conditions['temp'], \n",
    "                                                           humidity          = atm_conditions['humidity'],\n",
    "                                                           co2_conc          = atm_conditions['co2_conc'],\n",
    "                                                           observer_location = observing_loc,\n",
    "                                                           verbose           = 0)\n",
    "dispersion = -np.diff(refraction_atm['refraction_mag (arcsec)'], axis=1)\n",
    "par_ang = refraction_atm['parallactic_angle (degrees)']\n",
    "\n",
    "# Let's see how the dispersion varies with altitude this time.\n",
    "plt.figure(figsize=(10,4))\n",
    "plt.subplot(121)\n",
    "plt.plot(altitude, dispersion[:,0], '-c', label='Ca II H - Fe I 630.2')\n",
    "plt.plot(altitude, dispersion[:,1], '-y', label='Fe I 630.2 - Ca II 854.2')\n",
    "plt.plot(altitude, np.sum(dispersion, axis=1), '-m', label='Ca II H - Ca II 854.2')\n",
    "plt.xlabel('altitude [degrees]')\n",
    "plt.ylabel('dispersion [arcsec]')\n",
    "plt.legend()\n",
    "plt.subplot(122)\n",
    "plt.plot(altitude, par_ang, '-r', label='parallactic angle')\n",
    "plt.plot(altitude, coords['hour angle (degrees)'], '-b', label='hour angle')\n",
    "plt.xlabel('altitude [degrees]')\n",
    "plt.ylabel('angle [degrees]')\n",
    "plt.legend()\n",
    "plt.tight_layout()"
   ]
  },
  {
   "cell_type": "markdown",
   "metadata": {},
   "source": [
    "## Example 7: compute dispersion and parallactic angle for a full year\n",
    "\n",
    "One useful capability, especially for planning purposes, is the possibility of calculating the atmospheric dispersion for a extended time periods. In this case, we will compute the dispersion for all times over the course of a year."
   ]
  },
  {
   "cell_type": "code",
   "execution_count": null,
   "metadata": {},
   "outputs": [],
   "source": [
    "# Let's see how the dispersion changes over the entire year of 2022.\n",
    "times = Time(\"2022-01-01 10:00:00\", scale='utc') + np.arange(1440*365)*u.min\n",
    "times.format = 'jd'\n",
    "\n",
    "# We'll look at the dispersion between the Ca II H and Ca II 8542 Å lines.\n",
    "wavelengths = np.array([396.8, 854.2]) * u.nm\n",
    "\n",
    "# Warning: this one takes a while, as astropy uses more precise algorithms than IDL.\n",
    "# Also because 1440*365 is a really big number.\n",
    "refraction_atm, times, coords = adm.atmospheric_refraction(wavelengths,\n",
    "                                                           times,\n",
    "                                                           air_pressure      = atm_conditions['pressure'],\n",
    "                                                           air_temp          = atm_conditions['temp'], \n",
    "                                                           humidity          = atm_conditions['humidity'],\n",
    "                                                           co2_conc          = atm_conditions['co2_conc'],\n",
    "                                                           observer_location = observing_loc,\n",
    "                                                           verbose           = 0)"
   ]
  },
  {
   "cell_type": "code",
   "execution_count": null,
   "metadata": {},
   "outputs": [],
   "source": [
    "# Reshape the data into a 2-D array so we can plot it as images.\n",
    "dispersion = -np.diff(refraction_atm['refraction_mag (arcsec)'], axis=1).reshape((365, 1440))\n",
    "par_ang = refraction_atm['parallactic_angle (degrees)'].reshape((365, 1440))\n",
    "\n",
    "# Mask out times where the sun is below 4 degrees.\n",
    "mask = np.where(coords['altitude (degrees)']>4, 1, 0).reshape((365, 1440))\n",
    "\n",
    "# Okay, let's plot the data!\n",
    "fig,ax = plt.subplots(2, 1, figsize=(10, 10))\n",
    "im_disp = ax[0].imshow(dispersion*mask, aspect='auto', origin='lower',\n",
    "                       extent=[0, 24, 0, 365], norm=PowerNorm(0.5))\n",
    "plt.colorbar(im_disp, ax=ax[0], fraction=0.046, pad=0.04)\n",
    "# We'll add some contours to highlight how the dispersion changes.\n",
    "dispersion_levels = np.round(10**(np.arange(9)*0.25 - 1)*100)/100\n",
    "cont_disp = ax[0].contour(dispersion*mask, levels=dispersion_levels,\n",
    "                        extent=[0, 24, 0, 365], cmap='inferno_r')\n",
    "ax[0].clabel(cont_disp, cont_disp.levels, inline=True)\n",
    "ax[0].set_xlim(5.5, 19.5)\n",
    "ax[0].set_xlabel('local time [hours]')\n",
    "ax[0].set_ylabel('day of year')\n",
    "ax[0].set_title('dispersion [arcsec]')\n",
    "\n",
    "im_parang = ax[1].imshow(par_ang*mask, aspect='auto', origin='lower', extent=[0, 24, 0, 365])\n",
    "plt.colorbar(im_parang, ax=ax[1], fraction=0.046, pad=0.04)\n",
    "# Some contours for the parallactic angle.\n",
    "# Note the two points where the contours intersect; these are the days on which\n",
    "# the sun passes directly overhead at Haleakalā, known locally as \"Lahaina Noon.\"\n",
    "cont_parang = ax[1].contour(par_ang*mask, levels=np.arange(17)*10 - 80,\n",
    "                        extent=[0, 24, 0, 365], cmap='inferno_r')\n",
    "ax[1].clabel(cont_parang, cont_parang.levels[2::3], inline=True)\n",
    "ax[1].set_xlim(5.5, 19.5)\n",
    "ax[1].set_xlabel('local time [hours]')\n",
    "ax[1].set_ylabel('day of year')\n",
    "ax[1].set_title('parallactic angle [degrees]')\n",
    "\n",
    "plt.tight_layout()"
   ]
  },
  {
   "cell_type": "markdown",
   "metadata": {},
   "source": [
    "## Bonus: running the module as a script computes optimal slit angles\n",
    "\n",
    "When observing the sun with a slit spectrograph, the slit must rotate during the scan to remain fixed on the same celestial coordinates. So long as the \"images\" of the slit at different wavelengths remain aligned within one slit width, the data at those wavelengths can be considered cospatial. By selecting the optimal initial slit orientation, such that it rotates through the parallactic angle, this cospatiality can be maintained for longer periods, with the largest gains seen when the sun is near the zenith, where the parallactic angle changes most rapidly."
   ]
  },
  {
   "cell_type": "code",
   "execution_count": null,
   "metadata": {},
   "outputs": [],
   "source": [
    "# Script output is stored as a structure in a pickle file.\n",
    "with open('refraction.calc.haleakala.08.11.2021.pkl', 'rb') as f:\n",
    "    data = pickle.load(f)\n",
    "# Let's see what data are stored in this structure.\n",
    "data.keys()"
   ]
  },
  {
   "cell_type": "code",
   "execution_count": null,
   "metadata": {},
   "outputs": [],
   "source": [
    "# Check for what wavelengths dispersion was computed.\n",
    "data['wavelengths']"
   ]
  },
  {
   "cell_type": "code",
   "execution_count": null,
   "metadata": {},
   "outputs": [],
   "source": [
    "# Let's use the same two calcium lines as before, at about 400 and 850 nm.\n",
    "# This is hard-coded into the script; look for \"parashift_hka_caII\" near the end.\n",
    "# Feel free to try changing the chosen wavelengths and rerunning the script.\n",
    "\n",
    "# If the slit is initially vertical and rotates to track the sun,\n",
    "# this is how long cospatial observations can be obtained for a 0.05\" slit.\n",
    "plt.figure(figsize=(10,5))\n",
    "plt.imshow(data['time_available_hka'], origin='lower', aspect='auto', extent=[0, 24, 0, 365])\n",
    "plt.xlim(5, 19)\n",
    "plt.colorbar()\n",
    "plt.xlabel('local time [hours]')\n",
    "plt.ylabel('day of year')\n",
    "plt.title('Max obs time for vertical 0.05\" slit [minutes]')\n",
    "plt.tight_layout()"
   ]
  },
  {
   "cell_type": "code",
   "execution_count": null,
   "metadata": {},
   "outputs": [],
   "source": [
    "# By starting at a different angle and rotating through the parallactic angle,\n",
    "# this is how long the observations can last.\n",
    "fig, ax = plt.subplots(3, 1, figsize=(10, 15))\n",
    "im_opt = ax[0].imshow(data['time_available_hka_opt'][:, :, 0],\n",
    "                       origin='lower', aspect='auto', extent=[0, 24, 0, 365])\n",
    "ax[0].set_xlim(5, 19)\n",
    "plt.colorbar(im_opt, ax=ax[0])\n",
    "ax[0].set_xlabel('local time [hours]')\n",
    "ax[0].set_ylabel('day of year')\n",
    "ax[0].set_title('Max obs time for rotated 0.05\" slit [minutes]')\n",
    "im_ang = ax[1].imshow(data['time_available_hka_opt'][:, :, 1], cmap='twilight_shifted',\n",
    "                       origin='lower', aspect='auto', extent=[0, 24, 0, 365], norm=SymLogNorm(10, 0.5))\n",
    "ax[1].set_xlim(5, 19)\n",
    "plt.colorbar(im_ang, ax=ax[1])\n",
    "ax[1].set_xlabel('local time [hours]')\n",
    "ax[1].set_ylabel('day of year')\n",
    "ax[1].set_title('Optimal initial angle for 0.05\" slit [degrees]')\n",
    "im_diff = ax[2].imshow(data['time_available_hka_opt'][:, :, 0] - data['time_available_hka'],\n",
    "                       origin='lower', aspect='auto', extent=[0, 24, 0, 365])\n",
    "ax[2].set_xlim(5, 19)\n",
    "plt.colorbar(im_diff, ax=ax[2])\n",
    "ax[2].set_xlabel('local time [hours]')\n",
    "ax[2].set_ylabel('day of year')\n",
    "ax[2].set_title('Time gained by starting at optimal angle [minutes]')\n",
    "plt.tight_layout()"
   ]
  },
  {
   "cell_type": "code",
   "execution_count": null,
   "metadata": {},
   "outputs": [],
   "source": []
  },
  {
   "cell_type": "code",
   "execution_count": null,
   "metadata": {},
   "outputs": [],
   "source": []
  }
 ],
 "metadata": {
  "kernelspec": {
   "display_name": "Python 3",
   "language": "python",
   "name": "python3"
  },
  "language_info": {
   "codemirror_mode": {
    "name": "ipython",
    "version": 3
   },
   "file_extension": ".py",
   "mimetype": "text/x-python",
   "name": "python",
   "nbconvert_exporter": "python",
   "pygments_lexer": "ipython3",
   "version": "3.9.6"
  }
 },
 "nbformat": 4,
 "nbformat_minor": 4
}
